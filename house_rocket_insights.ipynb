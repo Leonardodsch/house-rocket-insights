{
 "cells": [
  {
   "cell_type": "markdown",
   "id": "naval-positive",
   "metadata": {},
   "source": [
    "# 0.0 Imports"
   ]
  },
  {
   "cell_type": "code",
   "execution_count": 239,
   "id": "colored-spending",
   "metadata": {
    "ExecuteTime": {
     "end_time": "2021-03-06T03:06:41.031964Z",
     "start_time": "2021-03-06T03:06:41.014975Z"
    }
   },
   "outputs": [],
   "source": [
    "import pandas as pd\n",
    "import numpy as np\n",
    "import matplotlib.pyplot as plt\n",
    "import seaborn as sns\n",
    "import warnings\n",
    "warnings.filterwarnings('ignore')\n",
    "import plotly.express as px\n",
    "import ipywidgets as widgets\n",
    "from ipywidgets import fixed"
   ]
  },
  {
   "cell_type": "markdown",
   "id": "experimental-research",
   "metadata": {
    "heading_collapsed": true
   },
   "source": [
    "## 0.1 Helper Functions"
   ]
  },
  {
   "cell_type": "code",
   "execution_count": 240,
   "id": "political-being",
   "metadata": {
    "ExecuteTime": {
     "end_time": "2021-03-06T03:06:41.047952Z",
     "start_time": "2021-03-06T03:06:41.034962Z"
    },
    "hidden": true
   },
   "outputs": [],
   "source": [
    "def jupyter_settings():\n",
    "    %matplotlib inline\n",
    "    %pylab inline\n",
    "    \n",
    "    plt.style.use( 'bmh' )\n",
    "    plt.rcParams['figure.figsize'] = [25, 12]\n",
    "    plt.rcParams['font.size'] = 24\n",
    "\n",
    "    display( HTML( '<style>.container { width:100% !important; }</style>') )\n",
    "    pd.options.display.max_columns = None\n",
    "    pd.options.display.max_rows = None\n",
    "    pd.set_option( 'display.expand_frame_repr', False )\n",
    "    pd.set_option('display.float_format', lambda x: '%.3f' % x)\n",
    "    sns.set(rc={'figure.figsize':(14,7)})\n",
    "    sns.set()\n",
    "\n",
    "pd.set_option('display.max_columns', None)"
   ]
  },
  {
   "cell_type": "markdown",
   "id": "super-personal",
   "metadata": {},
   "source": [
    "## 0.2 Loading Data"
   ]
  },
  {
   "cell_type": "code",
   "execution_count": 241,
   "id": "reverse-stock",
   "metadata": {
    "ExecuteTime": {
     "end_time": "2021-03-06T03:06:41.158888Z",
     "start_time": "2021-03-06T03:06:41.051951Z"
    }
   },
   "outputs": [],
   "source": [
    "df = pd.read_csv('data/kc_house_data.csv')"
   ]
  },
  {
   "cell_type": "markdown",
   "id": "rational-hurricane",
   "metadata": {},
   "source": [
    "# 1.0  Data Description"
   ]
  },
  {
   "cell_type": "markdown",
   "id": "settled-joining",
   "metadata": {},
   "source": [
    "## 1.1 Variables Dictionary "
   ]
  },
  {
   "cell_type": "markdown",
   "id": "civic-voltage",
   "metadata": {},
   "source": [
    "**id** - Unique ID for each home sold\n",
    "\n",
    "**date** - Date of the home sale\n",
    "\n",
    "**price** - Price of each home sold\n",
    "\n",
    "**bedrooms** - Number of bedrooms\n",
    "\n",
    "**bathrooms** - Number of bathrooms, where .5 accounts for a room with a toilet but no shower\n",
    "\n",
    "**sqft_living** - Square footage of the apartments interior living space\n",
    "\n",
    "**sqft_lot** - Square footage of the land space\n",
    "\n",
    "**floors** - Number of floors\n",
    "\n",
    "**waterfront** - A dummy variable for whether the apartment was overlooking the waterfront or not\n",
    "\n",
    "**view** - An index from 0 to 4 of how good the view of the property was\n",
    "\n",
    "**condition** - An index from 1 to 5 on the condition of the apartment\n",
    "\n",
    "**grade** - An index from 1 to 13, where 1-3 falls short of building construction and design, 7 has an average level of construction and design, and 11-13 have a high quality level of construction and design.\n",
    "\n",
    "**sqft_above** - The square footage of the interior housing space that is above ground level\n",
    "\n",
    "**sqft_basement** - The square footage of the interior housing space that is below ground level\n",
    "\n",
    "**yr_built** - The year the house was initially built\n",
    "\n",
    "**yr_renovated** - The year of the house’s last renovation\n",
    "\n",
    "**zipcode** - What zipcode area the house is in\n",
    "\n",
    "**lat** - Lattitude\n",
    "\n",
    "**long** - Longitude\n",
    "\n",
    "**sqft_living15** - The square footage of interior housing living space for the nearest 15 neighbors\n",
    "\n",
    "**sqft_lot15** - The square footage of the land lots of the nearest 15 neighbors"
   ]
  },
  {
   "cell_type": "code",
   "execution_count": 242,
   "id": "academic-booking",
   "metadata": {
    "ExecuteTime": {
     "end_time": "2021-03-06T03:06:41.206860Z",
     "start_time": "2021-03-06T03:06:41.161886Z"
    }
   },
   "outputs": [
    {
     "data": {
      "text/html": [
       "<div>\n",
       "<style scoped>\n",
       "    .dataframe tbody tr th:only-of-type {\n",
       "        vertical-align: middle;\n",
       "    }\n",
       "\n",
       "    .dataframe tbody tr th {\n",
       "        vertical-align: top;\n",
       "    }\n",
       "\n",
       "    .dataframe thead th {\n",
       "        text-align: right;\n",
       "    }\n",
       "</style>\n",
       "<table border=\"1\" class=\"dataframe\">\n",
       "  <thead>\n",
       "    <tr style=\"text-align: right;\">\n",
       "      <th></th>\n",
       "      <th>id</th>\n",
       "      <th>date</th>\n",
       "      <th>price</th>\n",
       "      <th>bedrooms</th>\n",
       "      <th>bathrooms</th>\n",
       "      <th>sqft_living</th>\n",
       "      <th>sqft_lot</th>\n",
       "      <th>floors</th>\n",
       "      <th>waterfront</th>\n",
       "      <th>view</th>\n",
       "      <th>condition</th>\n",
       "      <th>grade</th>\n",
       "      <th>sqft_above</th>\n",
       "      <th>sqft_basement</th>\n",
       "      <th>yr_built</th>\n",
       "      <th>yr_renovated</th>\n",
       "      <th>zipcode</th>\n",
       "      <th>lat</th>\n",
       "      <th>long</th>\n",
       "      <th>sqft_living15</th>\n",
       "      <th>sqft_lot15</th>\n",
       "    </tr>\n",
       "  </thead>\n",
       "  <tbody>\n",
       "    <tr>\n",
       "      <th>0</th>\n",
       "      <td>7129300520</td>\n",
       "      <td>20141013T000000</td>\n",
       "      <td>221900.0</td>\n",
       "      <td>3</td>\n",
       "      <td>1.00</td>\n",
       "      <td>1180</td>\n",
       "      <td>5650</td>\n",
       "      <td>1.0</td>\n",
       "      <td>0</td>\n",
       "      <td>0</td>\n",
       "      <td>3</td>\n",
       "      <td>7</td>\n",
       "      <td>1180</td>\n",
       "      <td>0</td>\n",
       "      <td>1955</td>\n",
       "      <td>0</td>\n",
       "      <td>98178</td>\n",
       "      <td>47.5112</td>\n",
       "      <td>-122.257</td>\n",
       "      <td>1340</td>\n",
       "      <td>5650</td>\n",
       "    </tr>\n",
       "    <tr>\n",
       "      <th>1</th>\n",
       "      <td>6414100192</td>\n",
       "      <td>20141209T000000</td>\n",
       "      <td>538000.0</td>\n",
       "      <td>3</td>\n",
       "      <td>2.25</td>\n",
       "      <td>2570</td>\n",
       "      <td>7242</td>\n",
       "      <td>2.0</td>\n",
       "      <td>0</td>\n",
       "      <td>0</td>\n",
       "      <td>3</td>\n",
       "      <td>7</td>\n",
       "      <td>2170</td>\n",
       "      <td>400</td>\n",
       "      <td>1951</td>\n",
       "      <td>1991</td>\n",
       "      <td>98125</td>\n",
       "      <td>47.7210</td>\n",
       "      <td>-122.319</td>\n",
       "      <td>1690</td>\n",
       "      <td>7639</td>\n",
       "    </tr>\n",
       "    <tr>\n",
       "      <th>2</th>\n",
       "      <td>5631500400</td>\n",
       "      <td>20150225T000000</td>\n",
       "      <td>180000.0</td>\n",
       "      <td>2</td>\n",
       "      <td>1.00</td>\n",
       "      <td>770</td>\n",
       "      <td>10000</td>\n",
       "      <td>1.0</td>\n",
       "      <td>0</td>\n",
       "      <td>0</td>\n",
       "      <td>3</td>\n",
       "      <td>6</td>\n",
       "      <td>770</td>\n",
       "      <td>0</td>\n",
       "      <td>1933</td>\n",
       "      <td>0</td>\n",
       "      <td>98028</td>\n",
       "      <td>47.7379</td>\n",
       "      <td>-122.233</td>\n",
       "      <td>2720</td>\n",
       "      <td>8062</td>\n",
       "    </tr>\n",
       "    <tr>\n",
       "      <th>3</th>\n",
       "      <td>2487200875</td>\n",
       "      <td>20141209T000000</td>\n",
       "      <td>604000.0</td>\n",
       "      <td>4</td>\n",
       "      <td>3.00</td>\n",
       "      <td>1960</td>\n",
       "      <td>5000</td>\n",
       "      <td>1.0</td>\n",
       "      <td>0</td>\n",
       "      <td>0</td>\n",
       "      <td>5</td>\n",
       "      <td>7</td>\n",
       "      <td>1050</td>\n",
       "      <td>910</td>\n",
       "      <td>1965</td>\n",
       "      <td>0</td>\n",
       "      <td>98136</td>\n",
       "      <td>47.5208</td>\n",
       "      <td>-122.393</td>\n",
       "      <td>1360</td>\n",
       "      <td>5000</td>\n",
       "    </tr>\n",
       "    <tr>\n",
       "      <th>4</th>\n",
       "      <td>1954400510</td>\n",
       "      <td>20150218T000000</td>\n",
       "      <td>510000.0</td>\n",
       "      <td>3</td>\n",
       "      <td>2.00</td>\n",
       "      <td>1680</td>\n",
       "      <td>8080</td>\n",
       "      <td>1.0</td>\n",
       "      <td>0</td>\n",
       "      <td>0</td>\n",
       "      <td>3</td>\n",
       "      <td>8</td>\n",
       "      <td>1680</td>\n",
       "      <td>0</td>\n",
       "      <td>1987</td>\n",
       "      <td>0</td>\n",
       "      <td>98074</td>\n",
       "      <td>47.6168</td>\n",
       "      <td>-122.045</td>\n",
       "      <td>1800</td>\n",
       "      <td>7503</td>\n",
       "    </tr>\n",
       "  </tbody>\n",
       "</table>\n",
       "</div>"
      ],
      "text/plain": [
       "           id             date     price  bedrooms  bathrooms  sqft_living  \\\n",
       "0  7129300520  20141013T000000  221900.0         3       1.00         1180   \n",
       "1  6414100192  20141209T000000  538000.0         3       2.25         2570   \n",
       "2  5631500400  20150225T000000  180000.0         2       1.00          770   \n",
       "3  2487200875  20141209T000000  604000.0         4       3.00         1960   \n",
       "4  1954400510  20150218T000000  510000.0         3       2.00         1680   \n",
       "\n",
       "   sqft_lot  floors  waterfront  view  condition  grade  sqft_above  \\\n",
       "0      5650     1.0           0     0          3      7        1180   \n",
       "1      7242     2.0           0     0          3      7        2170   \n",
       "2     10000     1.0           0     0          3      6         770   \n",
       "3      5000     1.0           0     0          5      7        1050   \n",
       "4      8080     1.0           0     0          3      8        1680   \n",
       "\n",
       "   sqft_basement  yr_built  yr_renovated  zipcode      lat     long  \\\n",
       "0              0      1955             0    98178  47.5112 -122.257   \n",
       "1            400      1951          1991    98125  47.7210 -122.319   \n",
       "2              0      1933             0    98028  47.7379 -122.233   \n",
       "3            910      1965             0    98136  47.5208 -122.393   \n",
       "4              0      1987             0    98074  47.6168 -122.045   \n",
       "\n",
       "   sqft_living15  sqft_lot15  \n",
       "0           1340        5650  \n",
       "1           1690        7639  \n",
       "2           2720        8062  \n",
       "3           1360        5000  \n",
       "4           1800        7503  "
      ]
     },
     "execution_count": 242,
     "metadata": {},
     "output_type": "execute_result"
    }
   ],
   "source": [
    "df.head()"
   ]
  },
  {
   "cell_type": "markdown",
   "id": "conservative-miller",
   "metadata": {
    "heading_collapsed": true
   },
   "source": [
    "## 1.2 Data Types"
   ]
  },
  {
   "cell_type": "code",
   "execution_count": 243,
   "id": "flying-munich",
   "metadata": {
    "ExecuteTime": {
     "end_time": "2021-03-06T03:06:41.222853Z",
     "start_time": "2021-03-06T03:06:41.210886Z"
    },
    "hidden": true
   },
   "outputs": [
    {
     "data": {
      "text/plain": [
       "id                 int64\n",
       "date              object\n",
       "price            float64\n",
       "bedrooms           int64\n",
       "bathrooms        float64\n",
       "sqft_living        int64\n",
       "sqft_lot           int64\n",
       "floors           float64\n",
       "waterfront         int64\n",
       "view               int64\n",
       "condition          int64\n",
       "grade              int64\n",
       "sqft_above         int64\n",
       "sqft_basement      int64\n",
       "yr_built           int64\n",
       "yr_renovated       int64\n",
       "zipcode            int64\n",
       "lat              float64\n",
       "long             float64\n",
       "sqft_living15      int64\n",
       "sqft_lot15         int64\n",
       "dtype: object"
      ]
     },
     "execution_count": 243,
     "metadata": {},
     "output_type": "execute_result"
    }
   ],
   "source": [
    "df.dtypes"
   ]
  },
  {
   "cell_type": "markdown",
   "id": "center-croatia",
   "metadata": {
    "heading_collapsed": true,
    "hide_input": false
   },
   "source": [
    "## 1.3 Change variable type"
   ]
  },
  {
   "cell_type": "code",
   "execution_count": 244,
   "id": "british-figure",
   "metadata": {
    "ExecuteTime": {
     "end_time": "2021-03-06T03:06:41.253834Z",
     "start_time": "2021-03-06T03:06:41.225851Z"
    },
    "hidden": true
   },
   "outputs": [],
   "source": [
    "df['date'] = pd.to_datetime(df['date'])\n",
    "df['sqft_living'] = df['sqft_living'].astype(float)\n",
    "df['sqft_lot'] = df['sqft_lot'].astype(float)\n",
    "df['sqft_above'] = df['sqft_above'].astype(float)\n",
    "df['sqft_basement'] = df['sqft_basement'].astype(float)"
   ]
  },
  {
   "cell_type": "markdown",
   "id": "valued-cancellation",
   "metadata": {
    "heading_collapsed": true
   },
   "source": [
    "## 1.4 Checking Nan values"
   ]
  },
  {
   "cell_type": "code",
   "execution_count": 245,
   "id": "proved-christian",
   "metadata": {
    "ExecuteTime": {
     "end_time": "2021-03-06T03:06:41.269826Z",
     "start_time": "2021-03-06T03:06:41.255833Z"
    },
    "hidden": true,
    "scrolled": false
   },
   "outputs": [
    {
     "data": {
      "text/plain": [
       "id               0\n",
       "date             0\n",
       "price            0\n",
       "bedrooms         0\n",
       "bathrooms        0\n",
       "sqft_living      0\n",
       "sqft_lot         0\n",
       "floors           0\n",
       "waterfront       0\n",
       "view             0\n",
       "condition        0\n",
       "grade            0\n",
       "sqft_above       0\n",
       "sqft_basement    0\n",
       "yr_built         0\n",
       "yr_renovated     0\n",
       "zipcode          0\n",
       "lat              0\n",
       "long             0\n",
       "sqft_living15    0\n",
       "sqft_lot15       0\n",
       "dtype: int64"
      ]
     },
     "execution_count": 245,
     "metadata": {},
     "output_type": "execute_result"
    }
   ],
   "source": [
    "df.isnull().sum()"
   ]
  },
  {
   "cell_type": "markdown",
   "id": "exclusive-coaching",
   "metadata": {
    "ExecuteTime": {
     "end_time": "2021-03-03T13:17:54.936706Z",
     "start_time": "2021-03-03T13:17:54.922713Z"
    },
    "heading_collapsed": true
   },
   "source": [
    "## 1.5 Descriptive Statistical"
   ]
  },
  {
   "cell_type": "code",
   "execution_count": 246,
   "id": "illegal-device",
   "metadata": {
    "ExecuteTime": {
     "end_time": "2021-03-06T03:06:41.333789Z",
     "start_time": "2021-03-06T03:06:41.273823Z"
    },
    "hidden": true
   },
   "outputs": [],
   "source": [
    "# Central tendecy - mean, median\n",
    "# Dispersion - std, min, max, skew, kurtosis\n",
    "\n",
    "skew = df.skew()\n",
    "kurt = df.kurtosis()"
   ]
  },
  {
   "cell_type": "code",
   "execution_count": 247,
   "id": "vietnamese-baghdad",
   "metadata": {
    "ExecuteTime": {
     "end_time": "2021-03-06T03:06:41.556662Z",
     "start_time": "2021-03-06T03:06:41.338785Z"
    },
    "hidden": true
   },
   "outputs": [
    {
     "data": {
      "text/html": [
       "<div>\n",
       "<style scoped>\n",
       "    .dataframe tbody tr th:only-of-type {\n",
       "        vertical-align: middle;\n",
       "    }\n",
       "\n",
       "    .dataframe tbody tr th {\n",
       "        vertical-align: top;\n",
       "    }\n",
       "\n",
       "    .dataframe thead th {\n",
       "        text-align: right;\n",
       "    }\n",
       "</style>\n",
       "<table border=\"1\" class=\"dataframe\">\n",
       "  <thead>\n",
       "    <tr style=\"text-align: right;\">\n",
       "      <th></th>\n",
       "      <th>Mean</th>\n",
       "      <th>Std</th>\n",
       "      <th>Min</th>\n",
       "      <th>Median</th>\n",
       "      <th>Max</th>\n",
       "      <th>Skew</th>\n",
       "      <th>Kurtosis</th>\n",
       "    </tr>\n",
       "  </thead>\n",
       "  <tbody>\n",
       "    <tr>\n",
       "      <th>id</th>\n",
       "      <td>4.580302e+09</td>\n",
       "      <td>2.876566e+09</td>\n",
       "      <td>1.000102e+06</td>\n",
       "      <td>3.904930e+09</td>\n",
       "      <td>9.900000e+09</td>\n",
       "      <td>0.243329</td>\n",
       "      <td>-1.260542</td>\n",
       "    </tr>\n",
       "    <tr>\n",
       "      <th>price</th>\n",
       "      <td>5.400881e+05</td>\n",
       "      <td>3.671272e+05</td>\n",
       "      <td>7.500000e+04</td>\n",
       "      <td>4.500000e+05</td>\n",
       "      <td>7.700000e+06</td>\n",
       "      <td>4.024069</td>\n",
       "      <td>34.585540</td>\n",
       "    </tr>\n",
       "    <tr>\n",
       "      <th>bedrooms</th>\n",
       "      <td>3.370842e+00</td>\n",
       "      <td>9.300618e-01</td>\n",
       "      <td>0.000000e+00</td>\n",
       "      <td>3.000000e+00</td>\n",
       "      <td>3.300000e+01</td>\n",
       "      <td>1.974300</td>\n",
       "      <td>49.063653</td>\n",
       "    </tr>\n",
       "    <tr>\n",
       "      <th>bathrooms</th>\n",
       "      <td>2.114757e+00</td>\n",
       "      <td>7.701632e-01</td>\n",
       "      <td>0.000000e+00</td>\n",
       "      <td>2.250000e+00</td>\n",
       "      <td>8.000000e+00</td>\n",
       "      <td>0.511108</td>\n",
       "      <td>1.279902</td>\n",
       "    </tr>\n",
       "    <tr>\n",
       "      <th>sqft_living</th>\n",
       "      <td>2.079900e+03</td>\n",
       "      <td>9.184409e+02</td>\n",
       "      <td>2.900000e+02</td>\n",
       "      <td>1.910000e+03</td>\n",
       "      <td>1.354000e+04</td>\n",
       "      <td>1.471555</td>\n",
       "      <td>5.243093</td>\n",
       "    </tr>\n",
       "    <tr>\n",
       "      <th>sqft_lot</th>\n",
       "      <td>1.510697e+04</td>\n",
       "      <td>4.142051e+04</td>\n",
       "      <td>5.200000e+02</td>\n",
       "      <td>7.618000e+03</td>\n",
       "      <td>1.651359e+06</td>\n",
       "      <td>13.060019</td>\n",
       "      <td>285.077820</td>\n",
       "    </tr>\n",
       "    <tr>\n",
       "      <th>floors</th>\n",
       "      <td>1.494309e+00</td>\n",
       "      <td>5.399889e-01</td>\n",
       "      <td>1.000000e+00</td>\n",
       "      <td>1.500000e+00</td>\n",
       "      <td>3.500000e+00</td>\n",
       "      <td>0.616177</td>\n",
       "      <td>-0.484723</td>\n",
       "    </tr>\n",
       "    <tr>\n",
       "      <th>waterfront</th>\n",
       "      <td>7.541757e-03</td>\n",
       "      <td>8.651720e-02</td>\n",
       "      <td>0.000000e+00</td>\n",
       "      <td>0.000000e+00</td>\n",
       "      <td>1.000000e+00</td>\n",
       "      <td>11.385108</td>\n",
       "      <td>127.632494</td>\n",
       "    </tr>\n",
       "    <tr>\n",
       "      <th>view</th>\n",
       "      <td>2.343034e-01</td>\n",
       "      <td>7.663176e-01</td>\n",
       "      <td>0.000000e+00</td>\n",
       "      <td>0.000000e+00</td>\n",
       "      <td>4.000000e+00</td>\n",
       "      <td>3.395750</td>\n",
       "      <td>10.893022</td>\n",
       "    </tr>\n",
       "    <tr>\n",
       "      <th>condition</th>\n",
       "      <td>3.409430e+00</td>\n",
       "      <td>6.507430e-01</td>\n",
       "      <td>1.000000e+00</td>\n",
       "      <td>3.000000e+00</td>\n",
       "      <td>5.000000e+00</td>\n",
       "      <td>1.032805</td>\n",
       "      <td>0.525764</td>\n",
       "    </tr>\n",
       "    <tr>\n",
       "      <th>grade</th>\n",
       "      <td>7.656873e+00</td>\n",
       "      <td>1.175459e+00</td>\n",
       "      <td>1.000000e+00</td>\n",
       "      <td>7.000000e+00</td>\n",
       "      <td>1.300000e+01</td>\n",
       "      <td>0.771103</td>\n",
       "      <td>1.190932</td>\n",
       "    </tr>\n",
       "    <tr>\n",
       "      <th>sqft_above</th>\n",
       "      <td>1.788391e+03</td>\n",
       "      <td>8.280910e+02</td>\n",
       "      <td>2.900000e+02</td>\n",
       "      <td>1.560000e+03</td>\n",
       "      <td>9.410000e+03</td>\n",
       "      <td>1.446664</td>\n",
       "      <td>3.402304</td>\n",
       "    </tr>\n",
       "    <tr>\n",
       "      <th>sqft_basement</th>\n",
       "      <td>2.915090e+02</td>\n",
       "      <td>4.425750e+02</td>\n",
       "      <td>0.000000e+00</td>\n",
       "      <td>0.000000e+00</td>\n",
       "      <td>4.820000e+03</td>\n",
       "      <td>1.577965</td>\n",
       "      <td>2.715574</td>\n",
       "    </tr>\n",
       "    <tr>\n",
       "      <th>yr_built</th>\n",
       "      <td>1.971005e+03</td>\n",
       "      <td>2.937341e+01</td>\n",
       "      <td>1.900000e+03</td>\n",
       "      <td>1.975000e+03</td>\n",
       "      <td>2.015000e+03</td>\n",
       "      <td>-0.469805</td>\n",
       "      <td>-0.657408</td>\n",
       "    </tr>\n",
       "    <tr>\n",
       "      <th>yr_renovated</th>\n",
       "      <td>8.440226e+01</td>\n",
       "      <td>4.016792e+02</td>\n",
       "      <td>0.000000e+00</td>\n",
       "      <td>0.000000e+00</td>\n",
       "      <td>2.015000e+03</td>\n",
       "      <td>4.549493</td>\n",
       "      <td>18.701152</td>\n",
       "    </tr>\n",
       "    <tr>\n",
       "      <th>zipcode</th>\n",
       "      <td>9.807794e+04</td>\n",
       "      <td>5.350503e+01</td>\n",
       "      <td>9.800100e+04</td>\n",
       "      <td>9.806500e+04</td>\n",
       "      <td>9.819900e+04</td>\n",
       "      <td>0.405661</td>\n",
       "      <td>-0.853479</td>\n",
       "    </tr>\n",
       "    <tr>\n",
       "      <th>lat</th>\n",
       "      <td>4.756005e+01</td>\n",
       "      <td>1.385637e-01</td>\n",
       "      <td>4.715590e+01</td>\n",
       "      <td>4.757180e+01</td>\n",
       "      <td>4.777760e+01</td>\n",
       "      <td>-0.485270</td>\n",
       "      <td>-0.676313</td>\n",
       "    </tr>\n",
       "    <tr>\n",
       "      <th>long</th>\n",
       "      <td>-1.222139e+02</td>\n",
       "      <td>1.408283e-01</td>\n",
       "      <td>-1.225190e+02</td>\n",
       "      <td>-1.222300e+02</td>\n",
       "      <td>-1.213150e+02</td>\n",
       "      <td>0.885053</td>\n",
       "      <td>1.049501</td>\n",
       "    </tr>\n",
       "    <tr>\n",
       "      <th>sqft_living15</th>\n",
       "      <td>1.986552e+03</td>\n",
       "      <td>6.853913e+02</td>\n",
       "      <td>3.990000e+02</td>\n",
       "      <td>1.840000e+03</td>\n",
       "      <td>6.210000e+03</td>\n",
       "      <td>1.108181</td>\n",
       "      <td>1.597096</td>\n",
       "    </tr>\n",
       "    <tr>\n",
       "      <th>sqft_lot15</th>\n",
       "      <td>1.276846e+04</td>\n",
       "      <td>2.730418e+04</td>\n",
       "      <td>6.510000e+02</td>\n",
       "      <td>7.620000e+03</td>\n",
       "      <td>8.712000e+05</td>\n",
       "      <td>9.506743</td>\n",
       "      <td>150.763110</td>\n",
       "    </tr>\n",
       "  </tbody>\n",
       "</table>\n",
       "</div>"
      ],
      "text/plain": [
       "                       Mean           Std           Min        Median  \\\n",
       "id             4.580302e+09  2.876566e+09  1.000102e+06  3.904930e+09   \n",
       "price          5.400881e+05  3.671272e+05  7.500000e+04  4.500000e+05   \n",
       "bedrooms       3.370842e+00  9.300618e-01  0.000000e+00  3.000000e+00   \n",
       "bathrooms      2.114757e+00  7.701632e-01  0.000000e+00  2.250000e+00   \n",
       "sqft_living    2.079900e+03  9.184409e+02  2.900000e+02  1.910000e+03   \n",
       "sqft_lot       1.510697e+04  4.142051e+04  5.200000e+02  7.618000e+03   \n",
       "floors         1.494309e+00  5.399889e-01  1.000000e+00  1.500000e+00   \n",
       "waterfront     7.541757e-03  8.651720e-02  0.000000e+00  0.000000e+00   \n",
       "view           2.343034e-01  7.663176e-01  0.000000e+00  0.000000e+00   \n",
       "condition      3.409430e+00  6.507430e-01  1.000000e+00  3.000000e+00   \n",
       "grade          7.656873e+00  1.175459e+00  1.000000e+00  7.000000e+00   \n",
       "sqft_above     1.788391e+03  8.280910e+02  2.900000e+02  1.560000e+03   \n",
       "sqft_basement  2.915090e+02  4.425750e+02  0.000000e+00  0.000000e+00   \n",
       "yr_built       1.971005e+03  2.937341e+01  1.900000e+03  1.975000e+03   \n",
       "yr_renovated   8.440226e+01  4.016792e+02  0.000000e+00  0.000000e+00   \n",
       "zipcode        9.807794e+04  5.350503e+01  9.800100e+04  9.806500e+04   \n",
       "lat            4.756005e+01  1.385637e-01  4.715590e+01  4.757180e+01   \n",
       "long          -1.222139e+02  1.408283e-01 -1.225190e+02 -1.222300e+02   \n",
       "sqft_living15  1.986552e+03  6.853913e+02  3.990000e+02  1.840000e+03   \n",
       "sqft_lot15     1.276846e+04  2.730418e+04  6.510000e+02  7.620000e+03   \n",
       "\n",
       "                        Max       Skew    Kurtosis  \n",
       "id             9.900000e+09   0.243329   -1.260542  \n",
       "price          7.700000e+06   4.024069   34.585540  \n",
       "bedrooms       3.300000e+01   1.974300   49.063653  \n",
       "bathrooms      8.000000e+00   0.511108    1.279902  \n",
       "sqft_living    1.354000e+04   1.471555    5.243093  \n",
       "sqft_lot       1.651359e+06  13.060019  285.077820  \n",
       "floors         3.500000e+00   0.616177   -0.484723  \n",
       "waterfront     1.000000e+00  11.385108  127.632494  \n",
       "view           4.000000e+00   3.395750   10.893022  \n",
       "condition      5.000000e+00   1.032805    0.525764  \n",
       "grade          1.300000e+01   0.771103    1.190932  \n",
       "sqft_above     9.410000e+03   1.446664    3.402304  \n",
       "sqft_basement  4.820000e+03   1.577965    2.715574  \n",
       "yr_built       2.015000e+03  -0.469805   -0.657408  \n",
       "yr_renovated   2.015000e+03   4.549493   18.701152  \n",
       "zipcode        9.819900e+04   0.405661   -0.853479  \n",
       "lat            4.777760e+01  -0.485270   -0.676313  \n",
       "long          -1.213150e+02   0.885053    1.049501  \n",
       "sqft_living15  6.210000e+03   1.108181    1.597096  \n",
       "sqft_lot15     8.712000e+05   9.506743  150.763110  "
      ]
     },
     "execution_count": 247,
     "metadata": {},
     "output_type": "execute_result"
    }
   ],
   "source": [
    "metrics = pd.DataFrame(df.describe().drop(['count','25%', '75%']).T)\n",
    "metrics = pd.concat([metrics, skew, kurt], axis=1)\n",
    "metrics.columns = ['Mean','Std','Min','Median','Max','Skew','Kurtosis']\n",
    "metrics"
   ]
  },
  {
   "cell_type": "markdown",
   "id": "static-appendix",
   "metadata": {},
   "source": [
    "# 2.0 Data cleaning"
   ]
  },
  {
   "cell_type": "markdown",
   "id": "defined-winter",
   "metadata": {
    "ExecuteTime": {
     "end_time": "2021-03-03T01:24:24.304612Z",
     "start_time": "2021-03-03T01:24:24.288605Z"
    },
    "heading_collapsed": true
   },
   "source": [
    "## 2.1 Removing duplicate ID's "
   ]
  },
  {
   "cell_type": "code",
   "execution_count": 248,
   "id": "preceding-exploration",
   "metadata": {
    "ExecuteTime": {
     "end_time": "2021-03-06T03:06:41.572651Z",
     "start_time": "2021-03-06T03:06:41.559660Z"
    },
    "hidden": true
   },
   "outputs": [
    {
     "data": {
      "text/plain": [
       "795000620     3\n",
       "3523069060    2\n",
       "7129304540    2\n",
       "2619920170    2\n",
       "6021501535    2\n",
       "             ..\n",
       "2595650170    1\n",
       "7212651100    1\n",
       "9808700025    1\n",
       "6772200055    1\n",
       "2424410110    1\n",
       "Name: id, Length: 21436, dtype: int64"
      ]
     },
     "execution_count": 248,
     "metadata": {},
     "output_type": "execute_result"
    }
   ],
   "source": [
    "df['id'].value_counts()"
   ]
  },
  {
   "cell_type": "code",
   "execution_count": 249,
   "id": "desirable-track",
   "metadata": {
    "ExecuteTime": {
     "end_time": "2021-03-06T03:06:41.604632Z",
     "start_time": "2021-03-06T03:06:41.577654Z"
    },
    "hidden": true
   },
   "outputs": [
    {
     "data": {
      "text/plain": [
       "21436"
      ]
     },
     "execution_count": 249,
     "metadata": {},
     "output_type": "execute_result"
    }
   ],
   "source": [
    "df['id'].nunique()"
   ]
  },
  {
   "cell_type": "code",
   "execution_count": 250,
   "id": "straight-multimedia",
   "metadata": {
    "ExecuteTime": {
     "end_time": "2021-03-06T03:06:41.635623Z",
     "start_time": "2021-03-06T03:06:41.607632Z"
    },
    "hidden": true
   },
   "outputs": [],
   "source": [
    "df.drop_duplicates(subset=['id'], inplace=True, keep='first')"
   ]
  },
  {
   "cell_type": "code",
   "execution_count": 251,
   "id": "fresh-favorite",
   "metadata": {
    "ExecuteTime": {
     "end_time": "2021-03-06T03:06:41.666598Z",
     "start_time": "2021-03-06T03:06:41.647609Z"
    },
    "hidden": true
   },
   "outputs": [
    {
     "data": {
      "text/plain": [
       "(21436, 21)"
      ]
     },
     "execution_count": 251,
     "metadata": {},
     "output_type": "execute_result"
    }
   ],
   "source": [
    "df.shape"
   ]
  },
  {
   "cell_type": "markdown",
   "id": "collaborative-dependence",
   "metadata": {
    "heading_collapsed": true
   },
   "source": [
    "## 2.2 Droping unused columns"
   ]
  },
  {
   "cell_type": "code",
   "execution_count": 252,
   "id": "equivalent-robertson",
   "metadata": {
    "ExecuteTime": {
     "end_time": "2021-03-06T03:06:41.698581Z",
     "start_time": "2021-03-06T03:06:41.682589Z"
    },
    "hidden": true
   },
   "outputs": [],
   "source": [
    "df.drop(['sqft_living15', 'sqft_lot15'], inplace=True, axis=1)"
   ]
  },
  {
   "cell_type": "markdown",
   "id": "directed-weather",
   "metadata": {
    "heading_collapsed": true
   },
   "source": [
    "## 2.3 Feature Engineering"
   ]
  },
  {
   "cell_type": "code",
   "execution_count": 253,
   "id": "broke-oxide",
   "metadata": {
    "ExecuteTime": {
     "end_time": "2021-03-06T03:06:41.762547Z",
     "start_time": "2021-03-06T03:06:41.700578Z"
    },
    "hidden": true
   },
   "outputs": [],
   "source": [
    "# converting sqft to m2\n",
    "\n",
    "df['m2_living'] = df['sqft_living'].apply(lambda x: x*0.09290304)\n",
    "df['m2_lot'] = df['sqft_lot'].apply(lambda x: x*0.09290304)\n",
    "df['m2_basement'] = df['sqft_basement'].apply(lambda x: x*0.09290304)\n",
    "df['m2_above'] = df['sqft_above'].apply(lambda x: x*0.09290304)"
   ]
  },
  {
   "cell_type": "code",
   "execution_count": 254,
   "id": "suspended-villa",
   "metadata": {
    "ExecuteTime": {
     "end_time": "2021-03-06T03:06:41.810519Z",
     "start_time": "2021-03-06T03:06:41.765542Z"
    },
    "hidden": true
   },
   "outputs": [],
   "source": [
    "# spliting date\n",
    "\n",
    "df['day'] = df['date'].dt.day\n",
    "df['month'] = df['date'].dt.month\n",
    "df['year'] = df['date'].dt.year\n",
    "df['week_of_year'] = df['date'].dt.isocalendar().week"
   ]
  },
  {
   "cell_type": "markdown",
   "id": "literary-force",
   "metadata": {},
   "source": [
    "## 2.4 Checking Outliers"
   ]
  },
  {
   "cell_type": "code",
   "execution_count": 255,
   "id": "celtic-warning",
   "metadata": {
    "ExecuteTime": {
     "end_time": "2021-03-06T03:06:42.176306Z",
     "start_time": "2021-03-06T03:06:41.816513Z"
    }
   },
   "outputs": [
    {
     "data": {
      "text/plain": [
       "<AxesSubplot:xlabel='price'>"
      ]
     },
     "execution_count": 255,
     "metadata": {},
     "output_type": "execute_result"
    },
    {
     "data": {
      "image/png": "[encoded data removed]",
      "text/plain": [
       "<Figure size 1008x504 with 1 Axes>"
      ]
     },
     "metadata": {},
     "output_type": "display_data"
    }
   ],
   "source": [
    "plt.figure(figsize=(14,7))\n",
    "sns.set_style('darkgrid')\n",
    "sns.boxplot(df['price'])"
   ]
  },
  {
   "cell_type": "markdown",
   "id": "british-radar",
   "metadata": {},
   "source": [
    "Verifica-se a presença de outliers na variavel preço, porem no calculo do preço medio esses valores acabam não tendo influencia\n",
    "pois se encontram em apenas uma pequena quantidade dos dados"
   ]
  },
  {
   "cell_type": "code",
   "execution_count": 256,
   "id": "surprised-slovakia",
   "metadata": {
    "ExecuteTime": {
     "end_time": "2021-03-06T03:06:42.208288Z",
     "start_time": "2021-03-06T03:06:42.179306Z"
    },
    "scrolled": true
   },
   "outputs": [],
   "source": [
    "df2 = pd.DataFrame(df[['zipcode','price']].groupby('zipcode').median().reset_index())\n",
    "df2.columns = ['zipcode', 'median_price']"
   ]
  },
  {
   "cell_type": "code",
   "execution_count": 257,
   "id": "authentic-minute",
   "metadata": {
    "ExecuteTime": {
     "end_time": "2021-03-06T03:06:42.271929Z",
     "start_time": "2021-03-06T03:06:42.215284Z"
    }
   },
   "outputs": [],
   "source": [
    "data = pd.merge(df,df2, on='zipcode', how='inner')"
   ]
  },
  {
   "cell_type": "code",
   "execution_count": 258,
   "id": "neutral-crime",
   "metadata": {
    "ExecuteTime": {
     "end_time": "2021-03-06T03:06:42.670694Z",
     "start_time": "2021-03-06T03:06:42.275925Z"
    }
   },
   "outputs": [],
   "source": [
    "data['buy'] = 'NA'\n",
    "data['buy'] = data[['price','median_price', 'condition',]].apply(lambda x: 'yes' if (x['price'] < x['median_price']) & (x['condition'] >= 4) else 'no', axis=1)"
   ]
  },
  {
   "cell_type": "code",
   "execution_count": 259,
   "id": "moved-string",
   "metadata": {
    "ExecuteTime": {
     "end_time": "2021-03-06T03:06:42.702699Z",
     "start_time": "2021-03-06T03:06:42.672696Z"
    }
   },
   "outputs": [
    {
     "data": {
      "text/html": [
       "<div>\n",
       "<style scoped>\n",
       "    .dataframe tbody tr th:only-of-type {\n",
       "        vertical-align: middle;\n",
       "    }\n",
       "\n",
       "    .dataframe tbody tr th {\n",
       "        vertical-align: top;\n",
       "    }\n",
       "\n",
       "    .dataframe thead th {\n",
       "        text-align: right;\n",
       "    }\n",
       "</style>\n",
       "<table border=\"1\" class=\"dataframe\">\n",
       "  <thead>\n",
       "    <tr style=\"text-align: right;\">\n",
       "      <th></th>\n",
       "      <th>id</th>\n",
       "      <th>zipcode</th>\n",
       "      <th>price</th>\n",
       "      <th>median_price</th>\n",
       "      <th>condition</th>\n",
       "      <th>buy</th>\n",
       "    </tr>\n",
       "  </thead>\n",
       "  <tbody>\n",
       "    <tr>\n",
       "      <th>12106</th>\n",
       "      <td>4039000050</td>\n",
       "      <td>98008</td>\n",
       "      <td>516130.0</td>\n",
       "      <td>545000.0</td>\n",
       "      <td>4</td>\n",
       "      <td>yes</td>\n",
       "    </tr>\n",
       "    <tr>\n",
       "      <th>20910</th>\n",
       "      <td>238000244</td>\n",
       "      <td>98188</td>\n",
       "      <td>421000.0</td>\n",
       "      <td>265000.0</td>\n",
       "      <td>3</td>\n",
       "      <td>no</td>\n",
       "    </tr>\n",
       "    <tr>\n",
       "      <th>16807</th>\n",
       "      <td>7883603965</td>\n",
       "      <td>98108</td>\n",
       "      <td>315000.0</td>\n",
       "      <td>345000.0</td>\n",
       "      <td>4</td>\n",
       "      <td>yes</td>\n",
       "    </tr>\n",
       "    <tr>\n",
       "      <th>19176</th>\n",
       "      <td>7427800080</td>\n",
       "      <td>98033</td>\n",
       "      <td>626000.0</td>\n",
       "      <td>678000.0</td>\n",
       "      <td>3</td>\n",
       "      <td>no</td>\n",
       "    </tr>\n",
       "    <tr>\n",
       "      <th>11750</th>\n",
       "      <td>6792200282</td>\n",
       "      <td>98042</td>\n",
       "      <td>254000.0</td>\n",
       "      <td>292500.0</td>\n",
       "      <td>3</td>\n",
       "      <td>no</td>\n",
       "    </tr>\n",
       "    <tr>\n",
       "      <th>6964</th>\n",
       "      <td>4359100050</td>\n",
       "      <td>98030</td>\n",
       "      <td>244000.0</td>\n",
       "      <td>282510.0</td>\n",
       "      <td>3</td>\n",
       "      <td>no</td>\n",
       "    </tr>\n",
       "    <tr>\n",
       "      <th>11405</th>\n",
       "      <td>5606000120</td>\n",
       "      <td>98105</td>\n",
       "      <td>906000.0</td>\n",
       "      <td>675000.0</td>\n",
       "      <td>3</td>\n",
       "      <td>no</td>\n",
       "    </tr>\n",
       "    <tr>\n",
       "      <th>14470</th>\n",
       "      <td>9201000320</td>\n",
       "      <td>98075</td>\n",
       "      <td>765000.0</td>\n",
       "      <td>739999.5</td>\n",
       "      <td>3</td>\n",
       "      <td>no</td>\n",
       "    </tr>\n",
       "    <tr>\n",
       "      <th>1376</th>\n",
       "      <td>8653600100</td>\n",
       "      <td>98074</td>\n",
       "      <td>750000.0</td>\n",
       "      <td>645000.0</td>\n",
       "      <td>3</td>\n",
       "      <td>no</td>\n",
       "    </tr>\n",
       "    <tr>\n",
       "      <th>11147</th>\n",
       "      <td>3023039231</td>\n",
       "      <td>98070</td>\n",
       "      <td>650000.0</td>\n",
       "      <td>465000.0</td>\n",
       "      <td>3</td>\n",
       "      <td>no</td>\n",
       "    </tr>\n",
       "  </tbody>\n",
       "</table>\n",
       "</div>"
      ],
      "text/plain": [
       "               id  zipcode     price  median_price  condition  buy\n",
       "12106  4039000050    98008  516130.0      545000.0          4  yes\n",
       "20910   238000244    98188  421000.0      265000.0          3   no\n",
       "16807  7883603965    98108  315000.0      345000.0          4  yes\n",
       "19176  7427800080    98033  626000.0      678000.0          3   no\n",
       "11750  6792200282    98042  254000.0      292500.0          3   no\n",
       "6964   4359100050    98030  244000.0      282510.0          3   no\n",
       "11405  5606000120    98105  906000.0      675000.0          3   no\n",
       "14470  9201000320    98075  765000.0      739999.5          3   no\n",
       "1376   8653600100    98074  750000.0      645000.0          3   no\n",
       "11147  3023039231    98070  650000.0      465000.0          3   no"
      ]
     },
     "execution_count": 259,
     "metadata": {},
     "output_type": "execute_result"
    }
   ],
   "source": [
    "df_sugestion = data[['id','zipcode','price','median_price','condition','buy']].copy()\n",
    "df_sugestion.sample(10)"
   ]
  },
  {
   "cell_type": "code",
   "execution_count": 260,
   "id": "insured-screening",
   "metadata": {
    "ExecuteTime": {
     "end_time": "2021-03-06T03:06:42.734664Z",
     "start_time": "2021-03-06T03:06:42.705677Z"
    },
    "code_folding": []
   },
   "outputs": [],
   "source": [
    "buy_bar = widgets.Dropdown( \n",
    "    options= data['buy'].unique().tolist(), \n",
    "    value='yes', \n",
    "    description='Buy', \n",
    "    disable=False)\n",
    "\n",
    "def update_map(data, buy):\n",
    "    houses = data[data['buy'] == buy][['id','zipcode','price','median_price','condition','buy', 'lat', 'long']]\n",
    "    fig = px.scatter_mapbox( houses, \n",
    "                         lat=\"lat\", \n",
    "                         lon=\"long\", \n",
    "                         color=\"median_price\",  \n",
    "                         size=\"price\",   \n",
    "                         color_continuous_scale=px.colors.cyclical.IceFire, \n",
    "                         size_max=15, \n",
    "                         zoom=10)\n",
    "\n",
    "    fig.update_layout(mapbox_style=\"open-street-map\")\n",
    "    fig.update_layout(height=600, margin={\"r\":0,\"t\":0,\"l\":0,\"b\":0})\n",
    "    fig.show()"
   ]
  },
  {
   "cell_type": "code",
   "execution_count": 261,
   "id": "demanding-contrast",
   "metadata": {
    "ExecuteTime": {
     "end_time": "2021-03-06T03:06:42.974523Z",
     "start_time": "2021-03-06T03:06:42.739658Z"
    },
    "scrolled": true
   },
   "outputs": [
    {
     "data": {
      "application/vnd.jupyter.widget-view+json": {
       "model_id": "fc1b30155e504f06aa937ea7fdb0e8c5",
       "version_major": 2,
       "version_minor": 0
      },
      "text/plain": [
       "interactive(children=(Dropdown(description='Buy', index=1, options=('no', 'yes'), value='yes'), Output()), _do…"
      ]
     },
     "metadata": {},
     "output_type": "display_data"
    }
   ],
   "source": [
    "widgets.interactive( update_map, data=fixed( data ), buy=buy_bar)"
   ]
  },
  {
   "cell_type": "code",
   "execution_count": 262,
   "id": "identical-prophet",
   "metadata": {
    "ExecuteTime": {
     "end_time": "2021-03-06T03:06:43.005504Z",
     "start_time": "2021-03-06T03:06:42.977525Z"
    }
   },
   "outputs": [],
   "source": [
    "data['season'] = 'na'\n",
    "\n",
    "data['season'] = data['week_of_year'].apply(lambda x: 'summer' if (x >= 25) & (x <= 38) \n",
    "                                            else 'fall' if (x >= 39) & (x <= 50) \n",
    "                                            else 'spring' if (x > 11) & (x<= 24) \n",
    "                                            else 'winter')"
   ]
  },
  {
   "cell_type": "code",
   "execution_count": 263,
   "id": "harmful-trash",
   "metadata": {
    "ExecuteTime": {
     "end_time": "2021-03-06T03:06:43.037487Z",
     "start_time": "2021-03-06T03:06:43.008504Z"
    }
   },
   "outputs": [],
   "source": [
    "# grouping by zipcode & season\n",
    "df3 = data[['price','zipcode','season']].groupby(['zipcode','season']).median().reset_index()\n",
    "df3.columns = ['zipcode', 'season','season_median_price']"
   ]
  },
  {
   "cell_type": "code",
   "execution_count": 264,
   "id": "working-january",
   "metadata": {
    "ExecuteTime": {
     "end_time": "2021-03-06T03:06:43.133433Z",
     "start_time": "2021-03-06T03:06:43.040486Z"
    }
   },
   "outputs": [],
   "source": [
    "data = pd.merge(data,df3, on=['zipcode','season'], how='inner')"
   ]
  },
  {
   "cell_type": "code",
   "execution_count": 266,
   "id": "necessary-outreach",
   "metadata": {
    "ExecuteTime": {
     "end_time": "2021-03-06T03:06:44.620028Z",
     "start_time": "2021-03-06T03:06:43.153422Z"
    }
   },
   "outputs": [],
   "source": [
    "data['sell_price'] = data[['season_median_price','price']].apply(lambda x: (x['price']*0.1 + x['price']) if x['price'] >= x['season_median_price'] else (x['price']*0.3 + x['price']), axis=1)\n",
    "data['profit'] = data[['sell_price','price']].apply(lambda x: x['sell_price'] - x['price'], axis=1)"
   ]
  },
  {
   "cell_type": "code",
   "execution_count": 267,
   "id": "shaped-script",
   "metadata": {
    "ExecuteTime": {
     "end_time": "2021-03-06T03:06:44.666006Z",
     "start_time": "2021-03-06T03:06:44.622033Z"
    }
   },
   "outputs": [
    {
     "data": {
      "text/html": [
       "<div>\n",
       "<style scoped>\n",
       "    .dataframe tbody tr th:only-of-type {\n",
       "        vertical-align: middle;\n",
       "    }\n",
       "\n",
       "    .dataframe tbody tr th {\n",
       "        vertical-align: top;\n",
       "    }\n",
       "\n",
       "    .dataframe thead th {\n",
       "        text-align: right;\n",
       "    }\n",
       "</style>\n",
       "<table border=\"1\" class=\"dataframe\">\n",
       "  <thead>\n",
       "    <tr style=\"text-align: right;\">\n",
       "      <th></th>\n",
       "      <th>id</th>\n",
       "      <th>zipcode</th>\n",
       "      <th>season</th>\n",
       "      <th>season_median_price</th>\n",
       "      <th>price</th>\n",
       "      <th>sell_price</th>\n",
       "      <th>profit</th>\n",
       "    </tr>\n",
       "  </thead>\n",
       "  <tbody>\n",
       "    <tr>\n",
       "      <th>9648</th>\n",
       "      <td>8961960160</td>\n",
       "      <td>98001</td>\n",
       "      <td>fall</td>\n",
       "      <td>250000.0</td>\n",
       "      <td>480000.0</td>\n",
       "      <td>528000.0</td>\n",
       "      <td>48000.0</td>\n",
       "    </tr>\n",
       "    <tr>\n",
       "      <th>7685</th>\n",
       "      <td>6891100590</td>\n",
       "      <td>98052</td>\n",
       "      <td>winter</td>\n",
       "      <td>655500.0</td>\n",
       "      <td>750000.0</td>\n",
       "      <td>825000.0</td>\n",
       "      <td>75000.0</td>\n",
       "    </tr>\n",
       "    <tr>\n",
       "      <th>8013</th>\n",
       "      <td>9348700480</td>\n",
       "      <td>98052</td>\n",
       "      <td>summer</td>\n",
       "      <td>620000.0</td>\n",
       "      <td>856500.0</td>\n",
       "      <td>942150.0</td>\n",
       "      <td>85650.0</td>\n",
       "    </tr>\n",
       "    <tr>\n",
       "      <th>18989</th>\n",
       "      <td>1234000630</td>\n",
       "      <td>98033</td>\n",
       "      <td>fall</td>\n",
       "      <td>626000.0</td>\n",
       "      <td>525000.0</td>\n",
       "      <td>682500.0</td>\n",
       "      <td>157500.0</td>\n",
       "    </tr>\n",
       "    <tr>\n",
       "      <th>5499</th>\n",
       "      <td>8129700565</td>\n",
       "      <td>98103</td>\n",
       "      <td>fall</td>\n",
       "      <td>531475.0</td>\n",
       "      <td>601450.0</td>\n",
       "      <td>661595.0</td>\n",
       "      <td>60145.0</td>\n",
       "    </tr>\n",
       "    <tr>\n",
       "      <th>19505</th>\n",
       "      <td>3971700330</td>\n",
       "      <td>98155</td>\n",
       "      <td>spring</td>\n",
       "      <td>381500.0</td>\n",
       "      <td>415000.0</td>\n",
       "      <td>456500.0</td>\n",
       "      <td>41500.0</td>\n",
       "    </tr>\n",
       "  </tbody>\n",
       "</table>\n",
       "</div>"
      ],
      "text/plain": [
       "               id  zipcode  season  season_median_price     price  sell_price  \\\n",
       "9648   8961960160    98001    fall             250000.0  480000.0    528000.0   \n",
       "7685   6891100590    98052  winter             655500.0  750000.0    825000.0   \n",
       "8013   9348700480    98052  summer             620000.0  856500.0    942150.0   \n",
       "18989  1234000630    98033    fall             626000.0  525000.0    682500.0   \n",
       "5499   8129700565    98103    fall             531475.0  601450.0    661595.0   \n",
       "19505  3971700330    98155  spring             381500.0  415000.0    456500.0   \n",
       "\n",
       "         profit  \n",
       "9648    48000.0  \n",
       "7685    75000.0  \n",
       "8013    85650.0  \n",
       "18989  157500.0  \n",
       "5499    60145.0  \n",
       "19505   41500.0  "
      ]
     },
     "execution_count": 267,
     "metadata": {},
     "output_type": "execute_result"
    }
   ],
   "source": [
    "data[['id', 'zipcode', 'season','season_median_price','price','sell_price','profit']].sample(6)"
   ]
  },
  {
   "cell_type": "code",
   "execution_count": null,
   "id": "further-roulette",
   "metadata": {},
   "outputs": [],
   "source": []
  }
 ],
 "metadata": {
  "kernelspec": {
   "display_name": "Python 3",
   "language": "python",
   "name": "python3"
  },
  "language_info": {
   "codemirror_mode": {
    "name": "ipython",
    "version": 3
   },
   "file_extension": ".py",
   "mimetype": "text/x-python",
   "name": "python",
   "nbconvert_exporter": "python",
   "pygments_lexer": "ipython3",
   "version": "3.8.8"
  }
 },
 "nbformat": 4,
 "nbformat_minor": 5
}
